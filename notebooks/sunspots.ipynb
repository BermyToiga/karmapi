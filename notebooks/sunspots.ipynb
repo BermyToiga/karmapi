{
 "cells": [
  {
   "cell_type": "markdown",
   "metadata": {},
   "source": [
    "# Sunspots\n",
    "\n",
    "Sunspots are dark areas on the sun's surface.  They have been observed for centuries.   The sunspot record shows a clear 11 year cycle.\n",
    "\n",
    "Sunspots are magnetic storms on the sun's surface.  They persist for days or even months and are vortices analagous to hurricanes or typhoons.  \n",
    "\n",
    "The red eye of Jupiter is also a magnetic storm.  It has very likely persisted for millenia, having been stable since it was first observed.\n",
    "\n",
    "The sun's magnetic field in fact follows a 22 year cycle.  The poles are (approximately) aligned with the sun's equator, and hence the plane of the ecliptic.\n",
    "\n",
    "However, the field appears to move, over a 22 year period up and down across this equator.\n",
    "\n",
    "The period of 11 years is intriguingly close to the 11.86 year orbital period of Jupiter.\n",
    "\n",
    "Nicola Scafetta [1] constructs a harmonic model based on three periods.  \n",
    "\n",
    "* the period of Jupiter = 12.86\n",
    "\n",
    "* A period of 10.87 years.\n",
    "\n",
    "* 0.5 * the interval between Jupiter/Saturn conjunctions, also known as the Jupiter/Saturn tidal spring period.\n",
    "\n",
    "The second period is close to the 11 year solar cycle.  The period of this cycle has exhibited some variation throughout the observational history, with cycles as long as 15 years and as short as 9 years.\n",
    "\n",
    "Scafetta set the phase of these cycles as follows:\n",
    "\n",
    "  The third important component of the model is the phase\n",
    "  timing of the three harmonics. We use T_1 = 2000.475 (the synodic\n",
    "  conjunction date of Jupiter and Saturn, 23/June/2000 relative to\n",
    "  the Sun, when the spring tide should be stronger); T_2 = 2002.364\n",
    "  (which is calculated through regression of the harmonic model\n",
    "  against the sunspot number record by keeping all other parameters\n",
    "  fixed); and T_3 = 1999.381 (the perihelion date of Jupiter,\n",
    "  20/May/1999, when Jupiter’s induced tide is stronger)\n",
    "\n",
    "As a result of these frequencies, beat frequencies emerge in the model.  When the cycles are in phase, they interfere constructively to produce stronger activity, when out of phase they interfere destructively.\n",
    "\n",
    "Scafetta's model fits extremely well with the sunspot record and in particular fits well with the solar minima such as the Dalton and Maunder periods.\n",
    "\n",
    "## Data Credits\n",
    "\n",
    "The Sunspot Number data can be freely downloaded. \n",
    "\n",
    "http://www.sidc.be/silso/datafiles\n",
    "\n",
    "e.g.: \"Source: WDC-SILSO, Royal Observatory of Belgium, Brussels\".\n",
    "\n",
    "The dataset being used in this notebook is the monthly total data."
   ]
  },
  {
   "cell_type": "markdown",
   "metadata": {},
   "source": [
    "# Harmony in solar systems\n",
    "\n",
    "## Gravity\n",
    "\n",
    "The Kirkwood gaps in the asteroid belt are regions where the orbital period is in resonance with that of Jupiter.  It is not possible to have a stable orbit in these regions.\n",
    "\n",
    "In short, to have a stable orbit a planet needs to avoid resonance with Jupiter.\n",
    "\n",
    "## Tidal locking\n",
    "\n",
    "Our planets and moons have been orbiting for billions of years.  During that time there has been tidal locking (for example of the moon and earth).\n",
    "\n",
    "## Magnetism, solar wind, \n",
    "\n",
    "As the earth orbits the sun it passes through the Sun's magnetic field.  The interactions with the field vary over time, depending on the relative orientation of earth's orbit and the Sun's magnetic field.\n",
    "\n",
    "Further, this field itself varies in strength.  \n",
    "\n",
    "There is evidence that these variations are in part driven by resonance with Jupiter, Saturn and indeed other planets.\n",
    "\n",
    "Gravity will likely be driving tidal currents, but the varying magnetic field may also be a driver.\n",
    "\n",
    "Although these fields are very weak there have been billions of years for resonance to build up.\n",
    "\n",
    "Further, we perhaps should not be surprised that the fundamental frequency of the sun's magnetic resonance is close to, but not exactly aligned with that of Jupiter.\n",
    "\n",
    "A dynamo resonating at with the same period (or a harmonic) as that of Jupiter would likely be unstable, in the same way as asteroids avoid the Kirkwood gaps.\n"
   ]
  },
  {
   "cell_type": "markdown",
   "metadata": {},
   "source": [
    "# Quakes and volcanic activity\n",
    "\n",
    "Earthquakes and volcanic activity are driven by the movement of magma within the earth's core.  \n",
    "\n",
    "The core is a conductor, passing through a varying magnetic field.  When things are in phase, we can expect stronger magnetic fields and more energy transferred to the core.  This may result in increased turbulence in the magma, increasingly the likelihood of volcanic activity and earthquakes.\n",
    "\n",
    "There is a hint of this in this analysis of large earthquakes in the last 100 years:\n",
    "\n",
    "https://tallbloke.wordpress.com/2015/01/31/big-earthquakes-generally-occur-at-low-sunspot-numbers/\n",
    "\n",
    "Note also, that when the magnetic resonance is in phase, so is the graviational resonance, again potentially adding to the earthquake risk.\n",
    "\n",
    "In reality, there are likely many harmonies involved, and as per the sunspot activiy, the dominant frequencies may be close to, but slightly displaced from the (primary) driving forces, namely Jupiter and the Sun.\n",
    "\n",
    "## Correlation between climate, quakes and volcanic activity\n",
    "\n",
    "It has been noted that volcanic eruptions can have an significant impact on climate, due to the dust that ends up in the atmosphere following a major eruption.\n",
    "\n",
    "There is an intriguing possiblity that increased solar activity also increases quake and volanic activity.  Hence, changes in the climate due to volcanoes may actually be synchronised with the periods of increased solar activity.\n",
    "\n",
    "# Climate change\n",
    "\n",
    "It should also be noted that the melting ice-caps are changing the pressure on magma chambers, so again there is a relationship between climate and seismology."
   ]
  },
  {
   "cell_type": "markdown",
   "metadata": {},
   "source": [
    "## References\n",
    "\n",
    "\n",
    "[1] Centennial variations in sunspot number, open solar\n",
    "flux, and streamer belt width: 2. Comparison\n",
    "with the geomagnetic data\n",
    "M. Lockwood1, M. J. Owens1, and L. Barnard1\n",
    "\n",
    "Department of Meteorology, University of Reading, Reading, UK\n",
    "\n",
    "http://onlinelibrary.wiley.com/doi/10.1002/2014JA019972/epdf\n",
    "\n",
    "\n",
    "[2] Coronal streamer belt asymmetries and seasonal solar wind variations deduced from Wind and Ulysses data\n",
    "\n",
    "N. U. Crooker, A. J. Lazarus, J. L. Phillips, J. T. Steinberg, A. Szabo, R. P. Lepping, E. J. Smith\n",
    "\n",
    "http://onlinelibrary.wiley.com/doi/10.1029/96JA03681/abstract\n",
    "\n",
    "[3] Multi-scale harmonic model for solar and climate cyclical variation\n",
    "throughout the Holocene based on Jupiter–Saturn tidal frequencies plus the\n",
    "11-year solar dynamo cycle\n",
    "\n",
    "Nicola Scafetta\n",
    "\n",
    "Scafetta, N., Multi-scale harmonic model for solar and climate cyclical variation throughout the Holocene\n",
    "based on Jupiter–Saturn tidal.... Journal of Atmospheric and Solar-Terrestrial Physics (2012), doi:10.1016/j.jastp.2012.02.016\n",
    "\n",
    "\n",
    "ACRIM (Active Cavity Radiometer Solar Irradiance Monitor Lab) & Duke University, Durham, NC 27708, USA\n",
    "\n",
    "http://www.fel.duke.edu/~scafetta/pdf/Scafetta_JStides.pdf"
   ]
  },
  {
   "cell_type": "markdown",
   "metadata": {},
   "source": [
    "# Scafetta Harmonic model"
   ]
  },
  {
   "cell_type": "code",
   "execution_count": null,
   "metadata": {
    "collapsed": false
   },
   "outputs": [],
   "source": [
    "jup = 11.86\n",
    "nep = 164.8\n",
    "sat = 29.4571\n",
    "\n",
    "x = (1/jup - 1/sat)\n",
    "\n",
    "jupsat = 1/(2 * x)\n",
    "\n",
    "x = (1/jup - 1/nep)\n",
    "jupnep = 1/(2 * x)\n",
    "\n",
    "jupsat, jupnep"
   ]
  },
  {
   "cell_type": "code",
   "execution_count": null,
   "metadata": {
    "collapsed": false
   },
   "outputs": [],
   "source": [
    "period = [jupsat, 10.87, jup, 11.07]\n",
    "\n",
    "phase = [2000.475, 2002.364, 1999.381, 2009]\n",
    "\n",
    "weight = [0.83, 1.0, 0.55, 0.25]"
   ]
  },
  {
   "cell_type": "code",
   "execution_count": null,
   "metadata": {
    "collapsed": false
   },
   "outputs": [],
   "source": [
    "import datetime\n",
    "import pandas\n",
    "import math\n",
    "\n",
    "from karmapi import base"
   ]
  },
  {
   "cell_type": "code",
   "execution_count": null,
   "metadata": {
    "collapsed": false
   },
   "outputs": [],
   "source": [
    "%matplotlib inline"
   ]
  },
  {
   "cell_type": "code",
   "execution_count": null,
   "metadata": {
    "collapsed": false
   },
   "outputs": [],
   "source": [
    "!head 'SN_m_tot_V2.0.csv'"
   ]
  },
  {
   "cell_type": "code",
   "execution_count": null,
   "metadata": {
    "collapsed": false
   },
   "outputs": [],
   "source": [
    "df = pandas.read_csv('SN_m_tot_V2.0.csv', \n",
    "                     names=['year', 'month', 'time', 'sunspot', 'sd', 'status'], \n",
    "                     sep=';',\n",
    "                     header=None,\n",
    "                     index_col=False)\n",
    "def add_date(x):\n",
    "    \n",
    "    # FIXME -- turn time into day\n",
    "    return datetime.date(int(x.year), int(x.month), 1)\n",
    "\n",
    "df.index = df.apply(add_date, axis=1)\n",
    "\n",
    "df.index = pandas.date_range(datetime.date(int(df.index[0].year), \n",
    "                                           int(df.index[0].month), 1), \n",
    "                             periods=len(df), freq='M')"
   ]
  },
  {
   "cell_type": "code",
   "execution_count": null,
   "metadata": {
    "collapsed": false
   },
   "outputs": [],
   "source": [
    "df['year2'] = pandas.np.linspace(1749, 2016.67, 3212)"
   ]
  },
  {
   "cell_type": "code",
   "execution_count": null,
   "metadata": {
    "collapsed": false
   },
   "outputs": [],
   "source": [
    "# add columns for the harmonic model\n",
    "#df = pandas.DataFrame(dict(year=pandas.np.linspace(1750, 2050, 10000)))\n",
    "pi = math.pi\n",
    "cos = pandas.np.cos\n",
    "for ii in range(4):\n",
    "    \n",
    "    df['h{}'.format(ii + 1)] = weight[ii] * cos((2 * pi) * ((df.year2 - phase[ii]) / period[ii]))\n",
    "    \n",
    "df['model'] = df.h1 + df.h2 + df.h3 + df.h4"
   ]
  },
  {
   "cell_type": "code",
   "execution_count": null,
   "metadata": {
    "collapsed": false
   },
   "outputs": [],
   "source": [
    "df.model.plot()"
   ]
  },
  {
   "cell_type": "code",
   "execution_count": null,
   "metadata": {
    "collapsed": false
   },
   "outputs": [],
   "source": [
    "df['guess'] = df.model.clip_lower(0.0) * 150\n",
    "\n",
    "pandas.rolling_mean(df['sunspot'], 12).plot(figsize=(12,4), style='r')\n",
    "\n",
    "df['guess'].plot(style='b')\n",
    "\n",
    "((df.h3 * 20) -10).plot(style='g')\n",
    "((df.h2 * 20) -40).plot(style='k', grid=True)"
   ]
  },
  {
   "cell_type": "code",
   "execution_count": null,
   "metadata": {
    "collapsed": false
   },
   "outputs": [],
   "source": [
    "df.tail()"
   ]
  },
  {
   "cell_type": "markdown",
   "metadata": {},
   "source": [
    "# Fourier transforms of sunspot data\n",
    "\n"
   ]
  },
  {
   "cell_type": "code",
   "execution_count": null,
   "metadata": {
    "collapsed": false
   },
   "outputs": [],
   "source": [
    "df.index = pandas.to_datetime(df.index)"
   ]
  },
  {
   "cell_type": "code",
   "execution_count": null,
   "metadata": {
    "collapsed": false
   },
   "outputs": [],
   "source": [
    "df.sunspot.plot(grid=True, figsize=(12,4))"
   ]
  },
  {
   "cell_type": "code",
   "execution_count": null,
   "metadata": {
    "collapsed": false
   },
   "outputs": [],
   "source": [
    "xx = base.fft.fft(df.sunspot)\n",
    "\n",
    "fdf = pandas.DataFrame(dict(real=xx.real, imag=xx.imag))\n",
    "\n",
    "fdf['power'] = ((fdf.imag ** 2.) + (fdf.real ** 2.0)) ** 0.5"
   ]
  },
  {
   "cell_type": "code",
   "execution_count": null,
   "metadata": {
    "collapsed": false
   },
   "outputs": [],
   "source": [
    "fdf[20:30].plot()"
   ]
  },
  {
   "cell_type": "code",
   "execution_count": null,
   "metadata": {
    "collapsed": false
   },
   "outputs": [],
   "source": [
    "def freq(x, n):\n",
    "    \n",
    "    m = len(x)\n",
    "    \n",
    "    for nn in range(n-1, n+2):\n",
    "        print(nn, 'years: {}'.format((m / nn)/12))"
   ]
  },
  {
   "cell_type": "code",
   "execution_count": null,
   "metadata": {
    "collapsed": false
   },
   "outputs": [],
   "source": [
    "freq(xx, 24)"
   ]
  },
  {
   "cell_type": "code",
   "execution_count": null,
   "metadata": {
    "collapsed": false
   },
   "outputs": [],
   "source": [
    "df.sunspot.head()"
   ]
  },
  {
   "cell_type": "code",
   "execution_count": null,
   "metadata": {
    "collapsed": false
   },
   "outputs": [],
   "source": [
    "df.info()"
   ]
  },
  {
   "cell_type": "code",
   "execution_count": null,
   "metadata": {
    "collapsed": false
   },
   "outputs": [],
   "source": [
    "ton = df[(df.year >= 1754) & (df.year <= 2008) ]"
   ]
  },
  {
   "cell_type": "code",
   "execution_count": null,
   "metadata": {
    "collapsed": false
   },
   "outputs": [],
   "source": [
    "xx = base.fft.fft(ton.sunspot)\n",
    "\n",
    "fdf = pandas.DataFrame(dict(real=xx.real, imag=xx.imag))\n",
    "\n",
    "fdf['power'] = ((fdf.imag ** 2.) + (fdf.real ** 2.0)) ** 0.5\n",
    "\n",
    "fdf.index = pandas.date_range(df.index[0], periods=len(fdf), freq='M')"
   ]
  },
  {
   "cell_type": "code",
   "execution_count": null,
   "metadata": {
    "collapsed": false
   },
   "outputs": [],
   "source": [
    "fdf.head()"
   ]
  },
  {
   "cell_type": "code",
   "execution_count": null,
   "metadata": {
    "collapsed": false
   },
   "outputs": [],
   "source": [
    "df.info()"
   ]
  },
  {
   "cell_type": "code",
   "execution_count": null,
   "metadata": {
    "collapsed": false
   },
   "outputs": [],
   "source": [
    "freq(fdf, 23)"
   ]
  },
  {
   "cell_type": "code",
   "execution_count": null,
   "metadata": {
    "collapsed": false
   },
   "outputs": [],
   "source": [
    "len(df), len(fdf)"
   ]
  },
  {
   "cell_type": "code",
   "execution_count": null,
   "metadata": {
    "collapsed": false
   },
   "outputs": [],
   "source": [
    "fdf.real.plot()"
   ]
  },
  {
   "cell_type": "code",
   "execution_count": null,
   "metadata": {
    "collapsed": false
   },
   "outputs": [],
   "source": [
    "x = 1\n",
    "y = len(fdf)/2\n",
    "#y = 1 * x \n",
    "#y=5\n",
    "fdf[x:int(x+y)].real.plot(grid=True)\n"
   ]
  },
  {
   "cell_type": "code",
   "execution_count": null,
   "metadata": {
    "collapsed": false
   },
   "outputs": [],
   "source": [
    "# remove a frequency...\n",
    "point = 25\n",
    "xx[point:-point] = 0.0\n",
    "xx[int(point/2)] = 0.0\n",
    "#xx[point+1:] = 0.0"
   ]
  },
  {
   "cell_type": "code",
   "execution_count": null,
   "metadata": {
    "collapsed": false
   },
   "outputs": [],
   "source": [
    "smooth = pandas.np.fft.ifft(xx)"
   ]
  },
  {
   "cell_type": "code",
   "execution_count": null,
   "metadata": {
    "collapsed": false
   },
   "outputs": [],
   "source": [
    "fdf['guess'] = smooth.real"
   ]
  },
  {
   "cell_type": "code",
   "execution_count": null,
   "metadata": {
    "collapsed": false
   },
   "outputs": [],
   "source": [
    "fdf.guess.plot()"
   ]
  },
  {
   "cell_type": "code",
   "execution_count": null,
   "metadata": {
    "collapsed": false
   },
   "outputs": [],
   "source": [
    "fdf.describe()"
   ]
  },
  {
   "cell_type": "code",
   "execution_count": null,
   "metadata": {
    "collapsed": false
   },
   "outputs": [],
   "source": [
    "df['guess'] = fdf.guess"
   ]
  },
  {
   "cell_type": "code",
   "execution_count": null,
   "metadata": {
    "collapsed": false
   },
   "outputs": [],
   "source": [
    "df[['guess', 'sunspot']][1500:].plot()"
   ]
  },
  {
   "cell_type": "code",
   "execution_count": null,
   "metadata": {
    "collapsed": false
   },
   "outputs": [],
   "source": [
    "365.25 * 11.86/10.86"
   ]
  },
  {
   "cell_type": "code",
   "execution_count": null,
   "metadata": {
    "collapsed": false
   },
   "outputs": [],
   "source": [
    "11.86/10.86"
   ]
  },
  {
   "cell_type": "code",
   "execution_count": null,
   "metadata": {
    "collapsed": false
   },
   "outputs": [],
   "source": [
    "x = .092081\n",
    "\n",
    "x / 1. + x"
   ]
  },
  {
   "cell_type": "code",
   "execution_count": null,
   "metadata": {
    "collapsed": false
   },
   "outputs": [],
   "source": [
    "pyplot.plot?"
   ]
  },
  {
   "cell_type": "code",
   "execution_count": null,
   "metadata": {
    "collapsed": false
   },
   "outputs": [],
   "source": [
    "len(df.year)"
   ]
  },
  {
   "cell_type": "code",
   "execution_count": null,
   "metadata": {
    "collapsed": false
   },
   "outputs": [],
   "source": [
    "266 * 12 "
   ]
  },
  {
   "cell_type": "code",
   "execution_count": null,
   "metadata": {
    "collapsed": false
   },
   "outputs": [],
   "source": [
    "df.info()"
   ]
  },
  {
   "cell_type": "code",
   "execution_count": null,
   "metadata": {
    "collapsed": false
   },
   "outputs": [],
   "source": [
    "220 / 12."
   ]
  },
  {
   "cell_type": "code",
   "execution_count": null,
   "metadata": {
    "collapsed": false
   },
   "outputs": [],
   "source": [
    "df.sunspot.describe()"
   ]
  },
  {
   "cell_type": "code",
   "execution_count": null,
   "metadata": {
    "collapsed": false,
    "scrolled": false
   },
   "outputs": [],
   "source": [
    "n = 12 * 50\n",
    "offset = 48\n",
    "end = offset + 120\n",
    "#end = n/2\n",
    "\n",
    "cmap = 'rainbow'\n",
    "#cmap = None\n",
    "\n",
    "so = base.sono(df.sunspot, n)\n",
    "\n",
    "from matplotlib import pyplot\n",
    "\n",
    "so = pandas.np.array(so)\n",
    "pyplot.figure(figsize=(12, 4))\n",
    "\n",
    "\n",
    "#pyplot.subplot(2,1,1)\n",
    "pyplot.title('offset: {} end: {} n: {}'.format(offset/12, end/12, n/12))\n",
    "pyplot.imshow(so[:, offset:int(end)].T.imag, aspect='auto', cmap='rainbow')\n",
    "#pyplot.subplot(2,1,2)\n",
    "#pyplot.imshow(so[:, offset:int(end)].T.real, aspect='auto', cmap=cmap)\n",
    "\n",
    "#pyplot.yticks([x + 120 for x in pyplot.yticks()])\n",
    "yt = pyplot.yticks()\n",
    "#\n",
    "#yt = pyplot.yticks(yt[0] + offset)\n",
    "#pyplot.grid(True)\n"
   ]
  },
  {
   "cell_type": "code",
   "execution_count": null,
   "metadata": {
    "collapsed": false,
    "scrolled": false
   },
   "outputs": [],
   "source": [
    "n = 12 * 50\n",
    "offset = 100\n",
    "end = 144\n",
    "so = base.sono(df.sunspot, n)\n",
    "\n",
    "from matplotlib import pyplot\n",
    "\n",
    "so = pandas.np.array(so)\n",
    "pyplot.figure(figsize=(12, 4))\n",
    "\n",
    "#end = n/2\n",
    "pyplot.subplot(2,1,1)\n",
    "pyplot.title('offset: {} end: {} n: {}'.format(offset/12, end/12, n/12))\n",
    "\n",
    "pyplot.imshow(so[:, offset:int(end)].T.imag, aspect='auto')\n",
    "pyplot.subplot(2,1,2)\n",
    "pyplot.imshow(so[:, offset:int(end)].T.real, aspect='auto')\n",
    "\n",
    "#pyplot.yticks([x + 120 for x in pyplot.yticks()])\n",
    "yt = pyplot.yticks()\n",
    "#\n",
    "#yt = pyplot.yticks(yt[0] + offset)\n",
    "pyplot.grid(True)\n"
   ]
  },
  {
   "cell_type": "code",
   "execution_count": null,
   "metadata": {
    "collapsed": false
   },
   "outputs": [],
   "source": [
    "from karmapi import show\n",
    "show.sono2(so,offset=48, end=300)"
   ]
  },
  {
   "cell_type": "code",
   "execution_count": null,
   "metadata": {
    "collapsed": false
   },
   "outputs": [],
   "source": [
    "so.shape"
   ]
  },
  {
   "cell_type": "code",
   "execution_count": null,
   "metadata": {
    "collapsed": false
   },
   "outputs": [],
   "source": [
    "df.sunspot.plot()"
   ]
  },
  {
   "cell_type": "code",
   "execution_count": null,
   "metadata": {
    "collapsed": false
   },
   "outputs": [],
   "source": [
    "freq(df, 2)"
   ]
  },
  {
   "cell_type": "code",
   "execution_count": null,
   "metadata": {
    "collapsed": false
   },
   "outputs": [],
   "source": [
    "1749 + (1500/12)"
   ]
  },
  {
   "cell_type": "code",
   "execution_count": null,
   "metadata": {
    "collapsed": false
   },
   "outputs": [],
   "source": []
  },
  {
   "cell_type": "code",
   "execution_count": null,
   "metadata": {
    "collapsed": false
   },
   "outputs": [],
   "source": []
  },
  {
   "cell_type": "code",
   "execution_count": null,
   "metadata": {
    "collapsed": false
   },
   "outputs": [],
   "source": []
  },
  {
   "cell_type": "code",
   "execution_count": null,
   "metadata": {
    "collapsed": false
   },
   "outputs": [],
   "source": [
    "pyplot.plot(so[0][120:144])"
   ]
  },
  {
   "cell_type": "code",
   "execution_count": null,
   "metadata": {
    "collapsed": false
   },
   "outputs": [],
   "source": [
    "x = pandas.np.random.random(3200)"
   ]
  },
  {
   "cell_type": "code",
   "execution_count": null,
   "metadata": {
    "collapsed": false
   },
   "outputs": [],
   "source": [
    "xsono = base.sono(x, 5 * 120)\n",
    "xsono = pandas.np.array(xsono)"
   ]
  },
  {
   "cell_type": "code",
   "execution_count": null,
   "metadata": {
    "collapsed": false
   },
   "outputs": [],
   "source": [
    "pyplot.imshow(xsono.T.imag, aspect='auto')"
   ]
  },
  {
   "cell_type": "code",
   "execution_count": null,
   "metadata": {
    "collapsed": false
   },
   "outputs": [],
   "source": []
  }
 ],
 "metadata": {
  "kernelspec": {
   "display_name": "Python 3",
   "language": "python",
   "name": "python3"
  },
  "language_info": {
   "codemirror_mode": {
    "name": "ipython",
    "version": 3
   },
   "file_extension": ".py",
   "mimetype": "text/x-python",
   "name": "python",
   "nbconvert_exporter": "python",
   "pygments_lexer": "ipython3",
   "version": "3.5.2"
  }
 },
 "nbformat": 4,
 "nbformat_minor": 1
}
