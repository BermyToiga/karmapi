{
 "cells": [
  {
   "cell_type": "markdown",
   "metadata": {},
   "source": [
    "# Sunspots\n",
    "\n",
    "\n",
    "\n",
    "Data Credits: The Sunspot Number data can be freely downloaded. \n",
    "\n",
    "http://www.sidc.be/silso/datafiles\n",
    "\n",
    "e.g.: \"Source: WDC-SILSO, Royal Observatory of Belgium, Brussels\".\n"
   ]
  },
  {
   "cell_type": "code",
   "execution_count": null,
   "metadata": {
    "collapsed": false
   },
   "outputs": [],
   "source": [
    "import datetime\n",
    "import pandas\n",
    "\n",
    "from karmapi import base"
   ]
  },
  {
   "cell_type": "code",
   "execution_count": null,
   "metadata": {
    "collapsed": false
   },
   "outputs": [],
   "source": [
    "%matplotlib inline"
   ]
  },
  {
   "cell_type": "code",
   "execution_count": null,
   "metadata": {
    "collapsed": false
   },
   "outputs": [],
   "source": [
    "!head 'SN_m_tot_V2.0.csv'"
   ]
  },
  {
   "cell_type": "code",
   "execution_count": null,
   "metadata": {
    "collapsed": false
   },
   "outputs": [],
   "source": [
    "df = pandas.read_csv('SN_m_tot_V2.0.csv', \n",
    "                     names=['year', 'month', 'time', 'sunspot', 'sd', 'status'], \n",
    "                     sep=';',\n",
    "                     header=None,\n",
    "                     index_col=False)\n",
    "def add_date(x):\n",
    "    \n",
    "    # FIXME -- turn time into day\n",
    "    return datetime.date(int(x.year), int(x.month), 1)\n",
    "\n",
    "df.index = df.apply(add_date, axis=1)\n",
    "\n",
    "df.index = pandas.date_range(datetime.date(int(df.index[0].year), \n",
    "                                           int(df.index[0].month), 1), \n",
    "                             periods=len(df), freq='M')"
   ]
  },
  {
   "cell_type": "code",
   "execution_count": null,
   "metadata": {
    "collapsed": false
   },
   "outputs": [],
   "source": [
    "df.head()"
   ]
  },
  {
   "cell_type": "code",
   "execution_count": null,
   "metadata": {
    "collapsed": false
   },
   "outputs": [],
   "source": [
    "j = 11.86\n",
    "n = 164.8\n",
    "s = 29.4571\n",
    "\n",
    "x = (1/j - 1/n)\n",
    "\n",
    "1/x"
   ]
  },
  {
   "cell_type": "code",
   "execution_count": null,
   "metadata": {
    "collapsed": false
   },
   "outputs": [],
   "source": [
    "df.describe()"
   ]
  },
  {
   "cell_type": "code",
   "execution_count": null,
   "metadata": {
    "collapsed": false
   },
   "outputs": [],
   "source": [
    "df.index = pandas.to_datetime(df.index)"
   ]
  },
  {
   "cell_type": "code",
   "execution_count": null,
   "metadata": {
    "collapsed": false
   },
   "outputs": [],
   "source": [
    "df['1960':].sunspot.plot(grid=True, figsize=(12,4))"
   ]
  },
  {
   "cell_type": "code",
   "execution_count": null,
   "metadata": {
    "collapsed": false
   },
   "outputs": [],
   "source": [
    "xx = base.fft.fft(df.sunspot)\n",
    "\n",
    "fdf = pandas.DataFrame(dict(real=xx.real, imag=xx.imag))\n",
    "\n",
    "fdf['power'] = ((fdf.imag ** 2.) + (fdf.real ** 2.0)) ** 0.5"
   ]
  },
  {
   "cell_type": "code",
   "execution_count": null,
   "metadata": {
    "collapsed": false
   },
   "outputs": [],
   "source": [
    "fdf[20:30].plot()"
   ]
  },
  {
   "cell_type": "code",
   "execution_count": null,
   "metadata": {
    "collapsed": false
   },
   "outputs": [],
   "source": [
    "def freq(x, n):\n",
    "    \n",
    "    m = len(x)\n",
    "    \n",
    "    for nn in range(n-1, n+2):\n",
    "        print(nn, 'years: {}'.format((m / nn)/12))"
   ]
  },
  {
   "cell_type": "code",
   "execution_count": null,
   "metadata": {
    "collapsed": false
   },
   "outputs": [],
   "source": [
    "freq(xx, 24)"
   ]
  },
  {
   "cell_type": "code",
   "execution_count": null,
   "metadata": {
    "collapsed": false
   },
   "outputs": [],
   "source": [
    "df.sunspot.head()"
   ]
  },
  {
   "cell_type": "code",
   "execution_count": null,
   "metadata": {
    "collapsed": false
   },
   "outputs": [],
   "source": [
    "df.info()"
   ]
  },
  {
   "cell_type": "code",
   "execution_count": null,
   "metadata": {
    "collapsed": false
   },
   "outputs": [],
   "source": [
    "ton = df[(df.year >= 1754) & (df.year <= 2008) ]"
   ]
  },
  {
   "cell_type": "code",
   "execution_count": null,
   "metadata": {
    "collapsed": false
   },
   "outputs": [],
   "source": [
    "xx = base.fft.fft(ton.sunspot)\n",
    "\n",
    "fdf = pandas.DataFrame(dict(real=xx.real, imag=xx.imag))\n",
    "\n",
    "fdf['power'] = ((fdf.imag ** 2.) + (fdf.real ** 2.0)) ** 0.5\n",
    "\n",
    "fdf.index = pandas.date_range(df.index[0], periods=len(fdf), freq='M')"
   ]
  },
  {
   "cell_type": "code",
   "execution_count": null,
   "metadata": {
    "collapsed": false
   },
   "outputs": [],
   "source": [
    "fdf.head()"
   ]
  },
  {
   "cell_type": "code",
   "execution_count": null,
   "metadata": {
    "collapsed": false
   },
   "outputs": [],
   "source": [
    "df.info()"
   ]
  },
  {
   "cell_type": "code",
   "execution_count": null,
   "metadata": {
    "collapsed": false
   },
   "outputs": [],
   "source": [
    "freq(fdf, 23)"
   ]
  },
  {
   "cell_type": "code",
   "execution_count": null,
   "metadata": {
    "collapsed": false
   },
   "outputs": [],
   "source": [
    "len(df), len(fdf)"
   ]
  },
  {
   "cell_type": "code",
   "execution_count": null,
   "metadata": {
    "collapsed": false
   },
   "outputs": [],
   "source": [
    "fdf.real.plot()"
   ]
  },
  {
   "cell_type": "code",
   "execution_count": null,
   "metadata": {
    "collapsed": false
   },
   "outputs": [],
   "source": [
    "x = 1\n",
    "y = len(fdf)/2\n",
    "#y = 1 * x \n",
    "#y=5\n",
    "fdf[x:int(x+y)].real.plot(grid=True)\n"
   ]
  },
  {
   "cell_type": "code",
   "execution_count": null,
   "metadata": {
    "collapsed": false
   },
   "outputs": [],
   "source": [
    "# remove a frequency...\n",
    "point = 25\n",
    "xx[point:-point] = 0.0\n",
    "xx[int(point/2)] = 0.0\n",
    "#xx[point+1:] = 0.0"
   ]
  },
  {
   "cell_type": "code",
   "execution_count": null,
   "metadata": {
    "collapsed": false
   },
   "outputs": [],
   "source": [
    "smooth = pandas.np.fft.ifft(xx)"
   ]
  },
  {
   "cell_type": "code",
   "execution_count": null,
   "metadata": {
    "collapsed": false
   },
   "outputs": [],
   "source": [
    "fdf['guess'] = smooth.real"
   ]
  },
  {
   "cell_type": "code",
   "execution_count": null,
   "metadata": {
    "collapsed": false
   },
   "outputs": [],
   "source": [
    "fdf.guess.plot()"
   ]
  },
  {
   "cell_type": "code",
   "execution_count": null,
   "metadata": {
    "collapsed": false
   },
   "outputs": [],
   "source": [
    "fdf.describe()"
   ]
  },
  {
   "cell_type": "code",
   "execution_count": null,
   "metadata": {
    "collapsed": false
   },
   "outputs": [],
   "source": [
    "df['guess'] = fdf.guess"
   ]
  },
  {
   "cell_type": "code",
   "execution_count": null,
   "metadata": {
    "collapsed": false
   },
   "outputs": [],
   "source": [
    "df[['guess', 'sunspot']][1500:].plot()"
   ]
  },
  {
   "cell_type": "code",
   "execution_count": null,
   "metadata": {
    "collapsed": false
   },
   "outputs": [],
   "source": [
    "365.25 * 11.86/10.86"
   ]
  },
  {
   "cell_type": "code",
   "execution_count": null,
   "metadata": {
    "collapsed": false
   },
   "outputs": [],
   "source": [
    "11.86/10.86"
   ]
  },
  {
   "cell_type": "code",
   "execution_count": null,
   "metadata": {
    "collapsed": false
   },
   "outputs": [],
   "source": [
    "x = .092081\n",
    "\n",
    "x / 1. + x"
   ]
  },
  {
   "cell_type": "code",
   "execution_count": null,
   "metadata": {
    "collapsed": false
   },
   "outputs": [],
   "source": [
    "pyplot.plot?"
   ]
  },
  {
   "cell_type": "code",
   "execution_count": null,
   "metadata": {
    "collapsed": false
   },
   "outputs": [],
   "source": [
    "len(df.year)"
   ]
  },
  {
   "cell_type": "code",
   "execution_count": null,
   "metadata": {
    "collapsed": false
   },
   "outputs": [],
   "source": [
    "266 * 12 "
   ]
  },
  {
   "cell_type": "code",
   "execution_count": null,
   "metadata": {
    "collapsed": false
   },
   "outputs": [],
   "source": [
    "df.info()"
   ]
  },
  {
   "cell_type": "code",
   "execution_count": null,
   "metadata": {
    "collapsed": false
   },
   "outputs": [],
   "source": [
    "220 / 12."
   ]
  },
  {
   "cell_type": "code",
   "execution_count": null,
   "metadata": {
    "collapsed": false
   },
   "outputs": [],
   "source": [
    "df.sunspot.describe()"
   ]
  },
  {
   "cell_type": "code",
   "execution_count": null,
   "metadata": {
    "collapsed": false,
    "scrolled": false
   },
   "outputs": [],
   "source": [
    "n = 12 * 50\n",
    "offset = 48\n",
    "end = offset + 120\n",
    "#end = n/2\n",
    "\n",
    "cmap = 'rainbow'\n",
    "#cmap = None\n",
    "\n",
    "so = base.sono(df.sunspot, n)\n",
    "\n",
    "from matplotlib import pyplot\n",
    "\n",
    "so = pandas.np.array(so)\n",
    "pyplot.figure(figsize=(12, 4))\n",
    "\n",
    "\n",
    "#pyplot.subplot(2,1,1)\n",
    "pyplot.title('offset: {} end: {} n: {}'.format(offset/12, end/12, n/12))\n",
    "pyplot.imshow(so[:, offset:int(end)].T.imag, aspect='auto', cmap='rainbow')\n",
    "#pyplot.subplot(2,1,2)\n",
    "#pyplot.imshow(so[:, offset:int(end)].T.real, aspect='auto', cmap=cmap)\n",
    "\n",
    "#pyplot.yticks([x + 120 for x in pyplot.yticks()])\n",
    "yt = pyplot.yticks()\n",
    "#\n",
    "#yt = pyplot.yticks(yt[0] + offset)\n",
    "#pyplot.grid(True)\n"
   ]
  },
  {
   "cell_type": "code",
   "execution_count": null,
   "metadata": {
    "collapsed": false,
    "scrolled": false
   },
   "outputs": [],
   "source": [
    "n = 12 * 50\n",
    "offset = 100\n",
    "end = 144\n",
    "so = base.sono(df.sunspot, n)\n",
    "\n",
    "from matplotlib import pyplot\n",
    "\n",
    "so = pandas.np.array(so)\n",
    "pyplot.figure(figsize=(12, 4))\n",
    "\n",
    "#end = n/2\n",
    "pyplot.subplot(2,1,1)\n",
    "pyplot.title('offset: {} end: {} n: {}'.format(offset/12, end/12, n/12))\n",
    "\n",
    "pyplot.imshow(so[:, offset:int(end)].T.imag, aspect='auto')\n",
    "pyplot.subplot(2,1,2)\n",
    "pyplot.imshow(so[:, offset:int(end)].T.real, aspect='auto')\n",
    "\n",
    "#pyplot.yticks([x + 120 for x in pyplot.yticks()])\n",
    "yt = pyplot.yticks()\n",
    "#\n",
    "#yt = pyplot.yticks(yt[0] + offset)\n",
    "pyplot.grid(True)\n"
   ]
  },
  {
   "cell_type": "code",
   "execution_count": null,
   "metadata": {
    "collapsed": false
   },
   "outputs": [],
   "source": [
    "from karmapi import show\n",
    "show.sono2(so,offset=48, end=300)"
   ]
  },
  {
   "cell_type": "code",
   "execution_count": null,
   "metadata": {
    "collapsed": false
   },
   "outputs": [],
   "source": [
    "so.shape"
   ]
  },
  {
   "cell_type": "code",
   "execution_count": null,
   "metadata": {
    "collapsed": false
   },
   "outputs": [],
   "source": [
    "df.sunspot.plot()"
   ]
  },
  {
   "cell_type": "code",
   "execution_count": null,
   "metadata": {
    "collapsed": false
   },
   "outputs": [],
   "source": [
    "freq(df, 2)"
   ]
  },
  {
   "cell_type": "code",
   "execution_count": null,
   "metadata": {
    "collapsed": false
   },
   "outputs": [],
   "source": [
    "1749 + (1500/12)"
   ]
  },
  {
   "cell_type": "code",
   "execution_count": null,
   "metadata": {
    "collapsed": false
   },
   "outputs": [],
   "source": []
  },
  {
   "cell_type": "code",
   "execution_count": null,
   "metadata": {
    "collapsed": false
   },
   "outputs": [],
   "source": []
  },
  {
   "cell_type": "code",
   "execution_count": null,
   "metadata": {
    "collapsed": false
   },
   "outputs": [],
   "source": []
  },
  {
   "cell_type": "code",
   "execution_count": null,
   "metadata": {
    "collapsed": false
   },
   "outputs": [],
   "source": [
    "pyplot.plot(so[0][120:144])"
   ]
  },
  {
   "cell_type": "code",
   "execution_count": null,
   "metadata": {
    "collapsed": false
   },
   "outputs": [],
   "source": [
    "x = pandas.np.random.random(3200)"
   ]
  },
  {
   "cell_type": "code",
   "execution_count": null,
   "metadata": {
    "collapsed": false
   },
   "outputs": [],
   "source": [
    "xsono = base.sono(x, 5 * 120)\n",
    "xsono = pandas.np.array(xsono)"
   ]
  },
  {
   "cell_type": "code",
   "execution_count": null,
   "metadata": {
    "collapsed": false
   },
   "outputs": [],
   "source": [
    "pyplot.imshow(xsono.T.imag, aspect='auto')"
   ]
  },
  {
   "cell_type": "code",
   "execution_count": null,
   "metadata": {
    "collapsed": false
   },
   "outputs": [],
   "source": []
  }
 ],
 "metadata": {
  "kernelspec": {
   "display_name": "Python 3",
   "language": "python",
   "name": "python3"
  },
  "language_info": {
   "codemirror_mode": {
    "name": "ipython",
    "version": 3
   },
   "file_extension": ".py",
   "mimetype": "text/x-python",
   "name": "python",
   "nbconvert_exporter": "python",
   "pygments_lexer": "ipython3",
   "version": "3.5.2"
  }
 },
 "nbformat": 4,
 "nbformat_minor": 1
}
