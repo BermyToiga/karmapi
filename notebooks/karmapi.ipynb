{
 "cells": [
  {
   "cell_type": "code",
   "execution_count": null,
   "metadata": {
    "collapsed": false
   },
   "outputs": [],
   "source": [
    "%matplotlib inline\n",
    "import sys\n",
    "import os\n",
    "import numpy\n",
    "import struct\n",
    "sys.path.append(os.path.expanduser(\"~/jng/sunshine/noddy\"))"
   ]
  },
  {
   "cell_type": "code",
   "execution_count": null,
   "metadata": {
    "collapsed": false
   },
   "outputs": [],
   "source": [
    "from karmapi import weather\n",
    "from datetime import date, timedelta"
   ]
  },
  {
   "cell_type": "code",
   "execution_count": null,
   "metadata": {
    "collapsed": false
   },
   "outputs": [],
   "source": [
    "ls -al ../*.gz"
   ]
  },
  {
   "cell_type": "code",
   "execution_count": null,
   "metadata": {
    "collapsed": false
   },
   "outputs": [],
   "source": [
    "ls -al"
   ]
  },
  {
   "cell_type": "code",
   "execution_count": null,
   "metadata": {
    "collapsed": false
   },
   "outputs": [],
   "source": [
    "data = weather.get_data(date(1979,1,1), open('tmax.csv'))"
   ]
  },
  {
   "cell_type": "code",
   "execution_count": null,
   "metadata": {
    "collapsed": false
   },
   "outputs": [],
   "source": [
    "def tonumpy(data):\n",
    "    \n",
    "    ndata = numpy.array([float(x) for x in data.split()])\n",
    "    ndata = ndata.reshape(weather.longitudes(), weather.latitudes()).T\n",
    "    return ndata"
   ]
  },
  {
   "cell_type": "code",
   "execution_count": null,
   "metadata": {
    "collapsed": false
   },
   "outputs": [],
   "source": [
    "from matplotlib import pyplot"
   ]
  },
  {
   "cell_type": "code",
   "execution_count": null,
   "metadata": {
    "collapsed": false
   },
   "outputs": [],
   "source": [
    "data = tonumpy(data)\n",
    "pyplot.imshow(data)"
   ]
  },
  {
   "cell_type": "code",
   "execution_count": null,
   "metadata": {
    "collapsed": false
   },
   "outputs": [],
   "source": [
    "!mkdir euro"
   ]
  },
  {
   "cell_type": "code",
   "execution_count": null,
   "metadata": {
    "collapsed": false
   },
   "outputs": [],
   "source": [
    "# mmake some directories\n",
    "delta = weather.DELTA\n",
    "lon = weather.LONGITUDE_START\n",
    "for ix in range(weather.longitudes()):\n",
    "    folder = 'euro/{}'.format(lon)\n",
    "    \n",
    "    try:\n",
    "        os.makedirs(folder) \n",
    "    except:\n",
    "        pass\n",
    "    \n",
    "    lat = weather.LATITUDE_START\n",
    "    for ix in range(weather.latitudes()):\n",
    "    \n",
    "        folder = 'euro/{}/{}'.format(lon, lat)\n",
    "    \n",
    "        try:\n",
    "            os.makedirs(folder)\n",
    "        except:\n",
    "            pass\n",
    "        \n",
    "        lat -= delta\n",
    "    lon += delta"
   ]
  },
  {
   "cell_type": "code",
   "execution_count": null,
   "metadata": {
    "collapsed": false
   },
   "outputs": [],
   "source": [
    "pyplot.plot(data[:,30])"
   ]
  },
  {
   "cell_type": "code",
   "execution_count": null,
   "metadata": {
    "collapsed": false
   },
   "outputs": [],
   "source": [
    "# open a file for each lon\n",
    "lons = numpy.linspace(weather.LONGITUDE_START, 360.0, weather.longitudes())\n",
    "\n",
    "lons = !ls euro\n",
    "\n",
    "outfiles = [open('euro/{}/tmax'.format(x), 'ab') for x in lons]"
   ]
  },
  {
   "cell_type": "code",
   "execution_count": null,
   "metadata": {
    "collapsed": false
   },
   "outputs": [],
   "source": [
    "def write_day(data, date, outfiles):\n",
    "\n",
    "    packer = struct.Struct('{}f'.format(weather.latitudes()))\n",
    "\n",
    "    for ix in range(weather.longitudes()):\n",
    "    \n",
    "        col = data[:, ix]\n",
    "        pdata = packer.pack(*col)\n",
    "    \n",
    "        outfiles[ix].write(pdata)\n",
    "\n",
    "    "
   ]
  },
  {
   "cell_type": "code",
   "execution_count": null,
   "metadata": {
    "collapsed": false
   },
   "outputs": [],
   "source": [
    "def process_days(start, end, infile, outfiles):\n",
    "    \n",
    "    day = start\n",
    "    while day < end:\n",
    "        if day.day == 1: print(day)\n",
    "        data = tonumpy(weather.get_data(day, infile))\n",
    "        \n",
    "        write_day(data, date, outfiles)\n",
    "        \n",
    "        day += timedelta(days=1)\n"
   ]
  },
  {
   "cell_type": "code",
   "execution_count": null,
   "metadata": {
    "collapsed": false
   },
   "outputs": [],
   "source": [
    "infile = open('tmax.csv')\n",
    "process_days(date(1989,1,1), date(2016,1,1), infile, outfiles)"
   ]
  },
  {
   "cell_type": "code",
   "execution_count": null,
   "metadata": {
    "collapsed": false
   },
   "outputs": [],
   "source": [
    "for out in outfiles: out.close()"
   ]
  },
  {
   "cell_type": "code",
   "execution_count": null,
   "metadata": {
    "collapsed": false
   },
   "outputs": [],
   "source": [
    "# get data for a lat lon\n",
    "def lat_lon(lat, lon, value='tmax'):\n",
    "    \n",
    "    # read all data for lon\n",
    "    infile = \"euro/{lat}/{value}\".format(**locals())\n",
    "    \n",
    "    data = open(infile, 'rb').read()\n",
    "    \n",
    "    print(len(data)/4)\n",
    "    \n",
    "    unpack = struct.Struct('{}f'.format(int(len(data)/4)))\n",
    "    \n",
    "    return unpack.unpack(data)\n"
   ]
  },
  {
   "cell_type": "code",
   "execution_count": null,
   "metadata": {
    "collapsed": false
   },
   "outputs": [],
   "source": [
    "data = lat_lon(0.0, 0.0)"
   ]
  },
  {
   "cell_type": "code",
   "execution_count": null,
   "metadata": {
    "collapsed": false
   },
   "outputs": [],
   "source": [
    "d = data[170::241]"
   ]
  },
  {
   "cell_type": "code",
   "execution_count": null,
   "metadata": {
    "collapsed": false
   },
   "outputs": [],
   "source": [
    "pyplot.plot(d)"
   ]
  }
 ],
 "metadata": {
  "kernelspec": {
   "display_name": "Python 3",
   "language": "python",
   "name": "python3"
  },
  "language_info": {
   "codemirror_mode": {
    "name": "ipython",
    "version": 3
   },
   "file_extension": ".py",
   "mimetype": "text/x-python",
   "name": "python",
   "nbconvert_exporter": "python",
   "pygments_lexer": "ipython3",
   "version": "3.4.3"
  }
 },
 "nbformat": 4,
 "nbformat_minor": 0
}
